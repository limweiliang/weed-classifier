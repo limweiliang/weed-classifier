{
 "cells": [
  {
   "cell_type": "code",
   "execution_count": 1,
   "metadata": {},
   "outputs": [],
   "source": [
    "import tensorflow as tf\n",
    "import cv2\n",
    "import numpy as np\n",
    "import tensorflow_datasets as tfds\n",
    "import matplotlib.pyplot as plt\n",
    "import sklearn\n",
    "import math\n",
    "from tensorflow.keras.models import Model"
   ]
  },
  {
   "cell_type": "code",
   "execution_count": 2,
   "metadata": {},
   "outputs": [
    {
     "name": "stdout",
     "output_type": "stream",
     "text": [
      "WARNING:tensorflow:From C:\\ProgramData\\Anaconda3\\lib\\site-packages\\tensorflow_datasets\\core\\dataset_builder.py:622: get_single_element (from tensorflow.python.data.experimental.ops.get_single_element) is deprecated and will be removed in a future version.\n",
      "Instructions for updating:\n",
      "Use `tf.data.Dataset.get_single_element()`.\n"
     ]
    },
    {
     "name": "stderr",
     "output_type": "stream",
     "text": [
      "WARNING:tensorflow:From C:\\ProgramData\\Anaconda3\\lib\\site-packages\\tensorflow_datasets\\core\\dataset_builder.py:622: get_single_element (from tensorflow.python.data.experimental.ops.get_single_element) is deprecated and will be removed in a future version.\n",
      "Instructions for updating:\n",
      "Use `tf.data.Dataset.get_single_element()`.\n"
     ]
    }
   ],
   "source": [
    "ds = tfds.load('deep_weeds', as_supervised= True, shuffle_files= True, batch_size = -1)"
   ]
  },
  {
   "cell_type": "code",
   "execution_count": 3,
   "metadata": {},
   "outputs": [],
   "source": [
    "images, labels = ds['train']"
   ]
  },
  {
   "cell_type": "code",
   "execution_count": 4,
   "metadata": {},
   "outputs": [],
   "source": [
    "del ds\n",
    "#del images\n",
    "#del labels"
   ]
  },
  {
   "cell_type": "code",
   "execution_count": 5,
   "metadata": {},
   "outputs": [],
   "source": [
    "def preprocess(img):\n",
    "    org = img\n",
    "    gray = cv2.cvtColor(img, cv2.COLOR_RGB2GRAY)\n",
    "    sobelx = cv2.Sobel(gray,cv2.CV_64F,1,0,ksize=3)\n",
    "    sobely = cv2.Sobel(gray,cv2.CV_64F,0,1,ksize=3)\n",
    "    sobel = np.sqrt(sobelx**2 + sobely**2)\n",
    "    im_max = np.max(sobel)\n",
    "    im_min = np.min(sobel)\n",
    "    sobel = (sobel - im_min)/(im_max - im_min)\n",
    "    sobel = sobel * 255\n",
    "    sobel = cv2.GaussianBlur(sobel,(3,3),cv2.BORDER_DEFAULT)\n",
    "    gray = np.expand_dims(gray, axis = 2)\n",
    "    sobel = np.expand_dims(sobel, axis = 2)\n",
    "    return np.concatenate([org,gray,sobel], axis = 2)"
   ]
  },
  {
   "cell_type": "markdown",
   "metadata": {},
   "source": [
    "# Load Model"
   ]
  },
  {
   "cell_type": "code",
   "execution_count": 6,
   "metadata": {},
   "outputs": [],
   "source": [
    "model  = tf.keras.models.load_model('CNN_Models/3_block_cnn/3_blockV2.h5')\n",
    "model.compile()"
   ]
  },
  {
   "cell_type": "code",
   "execution_count": 7,
   "metadata": {},
   "outputs": [
    {
     "name": "stdout",
     "output_type": "stream",
     "text": [
      "Model: \"2_block_CNN\"\n",
      "_________________________________________________________________\n",
      "Layer (type)                 Output Shape              Param #   \n",
      "=================================================================\n",
      "Original_Image (InputLayer)  [(None, 256, 256, 5)]     0         \n",
      "_________________________________________________________________\n",
      "random_flip_29 (RandomFlip)  (None, 256, 256, 5)       0         \n",
      "_________________________________________________________________\n",
      "random_rotation_29 (RandomRo (None, 256, 256, 5)       0         \n",
      "_________________________________________________________________\n",
      "rescaling_29 (Rescaling)     (None, 256, 256, 5)       0         \n",
      "_________________________________________________________________\n",
      "conv2d_114 (Conv2D)          (None, 128, 128, 64)      2944      \n",
      "_________________________________________________________________\n",
      "conv2d_115 (Conv2D)          (None, 64, 64, 64)        36928     \n",
      "_________________________________________________________________\n",
      "batch_normalization_56 (Batc (None, 64, 64, 64)        256       \n",
      "_________________________________________________________________\n",
      "re_lu_56 (ReLU)              (None, 64, 64, 64)        0         \n",
      "_________________________________________________________________\n",
      "max_pooling2d_48 (MaxPooling (None, 32, 32, 64)        0         \n",
      "_________________________________________________________________\n",
      "conv2d_116 (Conv2D)          (None, 32, 32, 128)       73856     \n",
      "_________________________________________________________________\n",
      "conv2d_117 (Conv2D)          (None, 32, 32, 128)       147584    \n",
      "_________________________________________________________________\n",
      "batch_normalization_57 (Batc (None, 32, 32, 128)       512       \n",
      "_________________________________________________________________\n",
      "re_lu_57 (ReLU)              (None, 32, 32, 128)       0         \n",
      "_________________________________________________________________\n",
      "max_pooling2d_49 (MaxPooling (None, 16, 16, 128)       0         \n",
      "_________________________________________________________________\n",
      "conv2d_118 (Conv2D)          (None, 8, 8, 128)         147584    \n",
      "_________________________________________________________________\n",
      "conv2d_119 (Conv2D)          (None, 4, 4, 128)         147584    \n",
      "_________________________________________________________________\n",
      "batch_normalization_58 (Batc (None, 4, 4, 128)         512       \n",
      "_________________________________________________________________\n",
      "re_lu_58 (ReLU)              (None, 4, 4, 128)         0         \n",
      "_________________________________________________________________\n",
      "flatten_28 (Flatten)         (None, 2048)              0         \n",
      "_________________________________________________________________\n",
      "dense_52 (Dense)             (None, 128)               262272    \n",
      "_________________________________________________________________\n",
      "dropout_26 (Dropout)         (None, 128)               0         \n",
      "_________________________________________________________________\n",
      "dense_53 (Dense)             (None, 9)                 1161      \n",
      "=================================================================\n",
      "Total params: 821,193\n",
      "Trainable params: 820,553\n",
      "Non-trainable params: 640\n",
      "_________________________________________________________________\n"
     ]
    }
   ],
   "source": [
    "model.summary()"
   ]
  },
  {
   "cell_type": "markdown",
   "metadata": {},
   "source": [
    "# Using Preprocessing"
   ]
  },
  {
   "cell_type": "code",
   "execution_count": 8,
   "metadata": {},
   "outputs": [],
   "source": [
    "#Pick a random image\n",
    "ind = np.random.randint(0, len(images))\n",
    "\n",
    "#Format for Neural Network\n",
    "test = images[ind].numpy()\n",
    "pre = preprocess(test)\n",
    "im = np.expand_dims(pre, axis = 0)"
   ]
  },
  {
   "cell_type": "markdown",
   "metadata": {},
   "source": [
    "# Using Model to predict"
   ]
  },
  {
   "cell_type": "code",
   "execution_count": 9,
   "metadata": {},
   "outputs": [
    {
     "name": "stdout",
     "output_type": "stream",
     "text": [
      "Prediction is 3\n",
      "Label is 3\n"
     ]
    }
   ],
   "source": [
    "prediction = model.predict(im)\n",
    "print(f'Prediction is {np.argmax(prediction)}')\n",
    "print(f'Label is {labels[ind]}')"
   ]
  },
  {
   "cell_type": "code",
   "execution_count": null,
   "metadata": {},
   "outputs": [],
   "source": []
  }
 ],
 "metadata": {
  "kernelspec": {
   "display_name": "Python 3",
   "language": "python",
   "name": "python3"
  },
  "language_info": {
   "codemirror_mode": {
    "name": "ipython",
    "version": 3
   },
   "file_extension": ".py",
   "mimetype": "text/x-python",
   "name": "python",
   "nbconvert_exporter": "python",
   "pygments_lexer": "ipython3",
   "version": "3.8.5"
  },
  "latex_envs": {
   "LaTeX_envs_menu_present": true,
   "autoclose": false,
   "autocomplete": true,
   "bibliofile": "biblio.bib",
   "cite_by": "apalike",
   "current_citInitial": 1,
   "eqLabelWithNumbers": true,
   "eqNumInitial": 1,
   "hotkeys": {
    "equation": "Ctrl-E",
    "itemize": "Ctrl-I"
   },
   "labels_anchors": false,
   "latex_user_defs": false,
   "report_style_numbering": false,
   "user_envs_cfg": false
  },
  "toc": {
   "base_numbering": 1,
   "nav_menu": {},
   "number_sections": true,
   "sideBar": true,
   "skip_h1_title": false,
   "title_cell": "Table of Contents",
   "title_sidebar": "Contents",
   "toc_cell": false,
   "toc_position": {},
   "toc_section_display": true,
   "toc_window_display": false
  },
  "varInspector": {
   "cols": {
    "lenName": 16,
    "lenType": 16,
    "lenVar": 40
   },
   "kernels_config": {
    "python": {
     "delete_cmd_postfix": "",
     "delete_cmd_prefix": "del ",
     "library": "var_list.py",
     "varRefreshCmd": "print(var_dic_list())"
    },
    "r": {
     "delete_cmd_postfix": ") ",
     "delete_cmd_prefix": "rm(",
     "library": "var_list.r",
     "varRefreshCmd": "cat(var_dic_list()) "
    }
   },
   "types_to_exclude": [
    "module",
    "function",
    "builtin_function_or_method",
    "instance",
    "_Feature"
   ],
   "window_display": false
  }
 },
 "nbformat": 4,
 "nbformat_minor": 4
}
