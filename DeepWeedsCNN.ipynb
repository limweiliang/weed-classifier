{
  "nbformat": 4,
  "nbformat_minor": 0,
  "metadata": {
    "colab": {
      "name": "CS3244 Project",
      "provenance": [],
      "collapsed_sections": []
    },
    "kernelspec": {
      "name": "python3",
      "display_name": "Python 3"
    },
    "language_info": {
      "name": "python"
    },
    "accelerator": "GPU"
  },
  "cells": [
    {
      "cell_type": "code",
      "metadata": {
        "id": "LIeHDVrHOLFx"
      },
      "source": [
        "!pip install -q tfds-nightly tensorflow-datasets tensorflow matplotlib"
      ],
      "execution_count": 10,
      "outputs": []
    },
    {
      "cell_type": "code",
      "metadata": {
        "id": "JTVF6dNcOOGB"
      },
      "source": [
        "import tensorflow as tf\n",
        "import cv2\n",
        "import numpy as np\n",
        "import tensorflow_datasets as tfds\n",
        "import matplotlib.pyplot as plt\n",
        "import sklearn\n",
        "import math"
      ],
      "execution_count": 1,
      "outputs": []
    },
    {
      "cell_type": "code",
      "metadata": {
        "id": "Q7C-xbdAOVmC",
        "colab": {
          "base_uri": "https://localhost:8080/"
        },
        "outputId": "8a7d5985-53d2-4659-cb9b-ffc5b5d2e84d"
      },
      "source": [
        "tf.config.list_physical_devices()"
      ],
      "execution_count": 2,
      "outputs": [
        {
          "output_type": "execute_result",
          "data": {
            "text/plain": [
              "[PhysicalDevice(name='/physical_device:CPU:0', device_type='CPU'),\n",
              " PhysicalDevice(name='/physical_device:GPU:0', device_type='GPU')]"
            ]
          },
          "metadata": {},
          "execution_count": 2
        }
      ]
    },
    {
      "cell_type": "code",
      "metadata": {
        "id": "f58GN1evOebU",
        "colab": {
          "base_uri": "https://localhost:8080/"
        },
        "outputId": "c0d44d0b-90b8-45c6-eb8a-9bc5e1222c6f"
      },
      "source": [
        "train_ds, validation_ds, test_ds = tfds.load('deep_weeds', as_supervised= True, shuffle_files= True, split=[\"train[:70%]\", \"train[:20%]\", \"train[:10%]\"], batch_size = 32)\n",
        "\n",
        "print(\"Number of training samples: %d\" % tf.data.experimental.cardinality(train_ds))\n",
        "print(\n",
        "    \"Number of validation samples: %d\" % tf.data.experimental.cardinality(validation_ds)\n",
        ")\n",
        "print(\"Number of test samples: %d\" % tf.data.experimental.cardinality(test_ds))"
      ],
      "execution_count": 13,
      "outputs": [
        {
          "output_type": "stream",
          "name": "stdout",
          "text": [
            "Number of training samples: 383\n",
            "Number of validation samples: 110\n",
            "Number of test samples: 55\n"
          ]
        }
      ]
    },
    {
      "cell_type": "code",
      "metadata": {
        "id": "qtgHcKQz524W"
      },
      "source": [
        "from tensorflow.keras import datasets, layers, models, regularizers\n",
        "import datetime"
      ],
      "execution_count": 6,
      "outputs": []
    },
    {
      "cell_type": "code",
      "metadata": {
        "id": "LvV9nZIv5zpD",
        "colab": {
          "base_uri": "https://localhost:8080/"
        },
        "outputId": "cde24dfc-34eb-4114-cf61-de5122a94fcc"
      },
      "source": [
        "model = models.Sequential()\n",
        "\n",
        "model.add(layers.Conv2D(96, (11, 11), activation='relu', input_shape=(256, 256, 3), strides = 4))\n",
        "model.add(layers.MaxPooling2D((3, 3), strides = 2))\n",
        "model.add(layers.BatchNormalization())\n",
        "\n",
        "model.add(layers.Conv2D(256, (5, 5), activation='relu', padding = 'same'))\n",
        "model.add(layers.MaxPooling2D((3, 3), strides = 2))\n",
        "\n",
        "model.add(layers.Conv2D(192, (3, 3), activation='relu', padding = 'same'))\n",
        "model.add(layers.Conv2D(192, (3, 3), activation='relu', padding = 'same'))\n",
        "model.add(layers.Conv2D(128, (3, 3), activation='relu', padding = 'same'))\n",
        "model.add(layers.MaxPooling2D((3, 3), strides = 2))\n",
        "model.add(layers.BatchNormalization())\n",
        "\n",
        "model.add(layers.Flatten())\n",
        "\n",
        "model.add(layers.Dense(4096, activation='relu'))\n",
        "model.add(layers.Dropout(0.25))\n",
        "\n",
        "model.add(layers.Dense(4096, activation='relu'))\n",
        "model.add(layers.Dropout(0.25))\n",
        "\n",
        "model.add(layers.Dense(9))\n",
        "\n",
        "model.summary()"
      ],
      "execution_count": 7,
      "outputs": [
        {
          "output_type": "stream",
          "name": "stdout",
          "text": [
            "Model: \"sequential\"\n",
            "_________________________________________________________________\n",
            "Layer (type)                 Output Shape              Param #   \n",
            "=================================================================\n",
            "conv2d (Conv2D)              (None, 62, 62, 96)        34944     \n",
            "_________________________________________________________________\n",
            "max_pooling2d (MaxPooling2D) (None, 30, 30, 96)        0         \n",
            "_________________________________________________________________\n",
            "batch_normalization (BatchNo (None, 30, 30, 96)        384       \n",
            "_________________________________________________________________\n",
            "conv2d_1 (Conv2D)            (None, 30, 30, 256)       614656    \n",
            "_________________________________________________________________\n",
            "max_pooling2d_1 (MaxPooling2 (None, 14, 14, 256)       0         \n",
            "_________________________________________________________________\n",
            "conv2d_2 (Conv2D)            (None, 14, 14, 192)       442560    \n",
            "_________________________________________________________________\n",
            "conv2d_3 (Conv2D)            (None, 14, 14, 192)       331968    \n",
            "_________________________________________________________________\n",
            "conv2d_4 (Conv2D)            (None, 14, 14, 128)       221312    \n",
            "_________________________________________________________________\n",
            "max_pooling2d_2 (MaxPooling2 (None, 6, 6, 128)         0         \n",
            "_________________________________________________________________\n",
            "batch_normalization_1 (Batch (None, 6, 6, 128)         512       \n",
            "_________________________________________________________________\n",
            "flatten (Flatten)            (None, 4608)              0         \n",
            "_________________________________________________________________\n",
            "dense (Dense)                (None, 4096)              18878464  \n",
            "_________________________________________________________________\n",
            "dropout (Dropout)            (None, 4096)              0         \n",
            "_________________________________________________________________\n",
            "dense_1 (Dense)              (None, 4096)              16781312  \n",
            "_________________________________________________________________\n",
            "dropout_1 (Dropout)          (None, 4096)              0         \n",
            "_________________________________________________________________\n",
            "dense_2 (Dense)              (None, 9)                 36873     \n",
            "=================================================================\n",
            "Total params: 37,342,985\n",
            "Trainable params: 37,342,537\n",
            "Non-trainable params: 448\n",
            "_________________________________________________________________\n"
          ]
        }
      ]
    },
    {
      "cell_type": "code",
      "metadata": {
        "id": "NwZCfVnL58AW",
        "colab": {
          "base_uri": "https://localhost:8080/"
        },
        "outputId": "0f254f27-7086-4fbe-9d9b-2730c7e154d2"
      },
      "source": [
        "model.compile(optimizer='adam',\n",
        "              loss=tf.keras.losses.SparseCategoricalCrossentropy(from_logits=True),\n",
        "              metrics=['accuracy'])\n",
        "\n",
        "\n",
        "\n",
        "\n",
        "model.fit(train_ds, epochs=50, \n",
        "                    validation_data=validation_ds)"
      ],
      "execution_count": 14,
      "outputs": [
        {
          "output_type": "stream",
          "name": "stdout",
          "text": [
            "Epoch 1/50\n",
            "383/383 [==============================] - 36s 93ms/step - loss: 0.7265 - accuracy: 0.7427 - val_loss: 1.8973 - val_accuracy: 0.5725\n",
            "Epoch 2/50\n",
            "383/383 [==============================] - 35s 90ms/step - loss: 0.5621 - accuracy: 0.8012 - val_loss: 1.3420 - val_accuracy: 0.6865\n",
            "Epoch 3/50\n",
            "383/383 [==============================] - 35s 91ms/step - loss: 0.4929 - accuracy: 0.8267 - val_loss: 1.6842 - val_accuracy: 0.6773\n",
            "Epoch 4/50\n",
            "383/383 [==============================] - 35s 91ms/step - loss: 0.4303 - accuracy: 0.8441 - val_loss: 1.0516 - val_accuracy: 0.7493\n",
            "Epoch 5/50\n",
            "383/383 [==============================] - 35s 90ms/step - loss: 0.4172 - accuracy: 0.8580 - val_loss: 1.2857 - val_accuracy: 0.6828\n",
            "Epoch 6/50\n",
            "383/383 [==============================] - 35s 90ms/step - loss: 0.3549 - accuracy: 0.8764 - val_loss: 1.1070 - val_accuracy: 0.7481\n",
            "Epoch 7/50\n",
            "383/383 [==============================] - 35s 91ms/step - loss: 0.3400 - accuracy: 0.8840 - val_loss: 0.6980 - val_accuracy: 0.8081\n",
            "Epoch 8/50\n",
            "383/383 [==============================] - 35s 90ms/step - loss: 0.3523 - accuracy: 0.8817 - val_loss: 1.1233 - val_accuracy: 0.7202\n",
            "Epoch 9/50\n",
            "383/383 [==============================] - 35s 91ms/step - loss: 0.2585 - accuracy: 0.9147 - val_loss: 0.4671 - val_accuracy: 0.8581\n",
            "Epoch 10/50\n",
            "383/383 [==============================] - 35s 91ms/step - loss: 0.2690 - accuracy: 0.9110 - val_loss: 4.5622 - val_accuracy: 0.7005\n",
            "Epoch 11/50\n",
            "383/383 [==============================] - 35s 91ms/step - loss: 0.2189 - accuracy: 0.9272 - val_loss: 0.7791 - val_accuracy: 0.8615\n",
            "Epoch 12/50\n",
            "383/383 [==============================] - 35s 91ms/step - loss: 0.2041 - accuracy: 0.9330 - val_loss: 0.5469 - val_accuracy: 0.8498\n",
            "Epoch 13/50\n",
            "383/383 [==============================] - 35s 91ms/step - loss: 0.1856 - accuracy: 0.9408 - val_loss: 1.5135 - val_accuracy: 0.6588\n",
            "Epoch 14/50\n",
            "383/383 [==============================] - 35s 91ms/step - loss: 0.1909 - accuracy: 0.9385 - val_loss: 0.2950 - val_accuracy: 0.9015\n",
            "Epoch 15/50\n",
            "383/383 [==============================] - 35s 91ms/step - loss: 0.1869 - accuracy: 0.9419 - val_loss: 0.3798 - val_accuracy: 0.8815\n",
            "Epoch 16/50\n",
            "383/383 [==============================] - 35s 91ms/step - loss: 0.1987 - accuracy: 0.9395 - val_loss: 1.0691 - val_accuracy: 0.7050\n",
            "Epoch 17/50\n",
            "383/383 [==============================] - 35s 91ms/step - loss: 0.2035 - accuracy: 0.9414 - val_loss: 1.3288 - val_accuracy: 0.6533\n",
            "Epoch 18/50\n",
            "383/383 [==============================] - 35s 91ms/step - loss: 0.4392 - accuracy: 0.8610 - val_loss: 0.2966 - val_accuracy: 0.9089\n",
            "Epoch 19/50\n",
            "383/383 [==============================] - 35s 91ms/step - loss: 0.1679 - accuracy: 0.9494 - val_loss: 0.2187 - val_accuracy: 0.9278\n",
            "Epoch 20/50\n",
            "383/383 [==============================] - 35s 91ms/step - loss: 0.1562 - accuracy: 0.9510 - val_loss: 0.2754 - val_accuracy: 0.9138\n",
            "Epoch 21/50\n",
            "383/383 [==============================] - 35s 91ms/step - loss: 0.1410 - accuracy: 0.9553 - val_loss: 0.1768 - val_accuracy: 0.9395\n",
            "Epoch 22/50\n",
            "383/383 [==============================] - 35s 91ms/step - loss: 0.1371 - accuracy: 0.9594 - val_loss: 0.5752 - val_accuracy: 0.8749\n",
            "Epoch 23/50\n",
            "383/383 [==============================] - 35s 91ms/step - loss: 0.1228 - accuracy: 0.9631 - val_loss: 0.1619 - val_accuracy: 0.9557\n",
            "Epoch 24/50\n",
            "383/383 [==============================] - 35s 91ms/step - loss: 0.1542 - accuracy: 0.9546 - val_loss: 2.9865 - val_accuracy: 0.5334\n",
            "Epoch 25/50\n",
            "383/383 [==============================] - 35s 91ms/step - loss: 0.1422 - accuracy: 0.9588 - val_loss: 0.3527 - val_accuracy: 0.9006\n",
            "Epoch 26/50\n",
            "383/383 [==============================] - 35s 91ms/step - loss: 0.1265 - accuracy: 0.9611 - val_loss: 0.1101 - val_accuracy: 0.9706\n",
            "Epoch 27/50\n",
            "383/383 [==============================] - 35s 91ms/step - loss: 0.1299 - accuracy: 0.9605 - val_loss: 0.1919 - val_accuracy: 0.9397\n",
            "Epoch 28/50\n",
            "383/383 [==============================] - 35s 91ms/step - loss: 0.1259 - accuracy: 0.9644 - val_loss: 0.2437 - val_accuracy: 0.9269\n",
            "Epoch 29/50\n",
            "383/383 [==============================] - 35s 91ms/step - loss: 0.1241 - accuracy: 0.9641 - val_loss: 0.3023 - val_accuracy: 0.9223\n",
            "Epoch 30/50\n",
            "383/383 [==============================] - 35s 91ms/step - loss: 0.1121 - accuracy: 0.9678 - val_loss: 0.3716 - val_accuracy: 0.9101\n",
            "Epoch 31/50\n",
            "383/383 [==============================] - 35s 91ms/step - loss: 0.1413 - accuracy: 0.9626 - val_loss: 0.2285 - val_accuracy: 0.9372\n",
            "Epoch 32/50\n",
            "383/383 [==============================] - 35s 90ms/step - loss: 0.1385 - accuracy: 0.9584 - val_loss: 0.3212 - val_accuracy: 0.9175\n",
            "Epoch 33/50\n",
            "383/383 [==============================] - 35s 91ms/step - loss: 0.1085 - accuracy: 0.9679 - val_loss: 0.6656 - val_accuracy: 0.8447\n",
            "Epoch 34/50\n",
            "383/383 [==============================] - 35s 91ms/step - loss: 0.1160 - accuracy: 0.9661 - val_loss: 0.1942 - val_accuracy: 0.9429\n",
            "Epoch 35/50\n",
            "383/383 [==============================] - 35s 91ms/step - loss: 0.1066 - accuracy: 0.9697 - val_loss: 0.1022 - val_accuracy: 0.9677\n",
            "Epoch 36/50\n",
            "383/383 [==============================] - 35s 91ms/step - loss: 0.0892 - accuracy: 0.9746 - val_loss: 0.2165 - val_accuracy: 0.9420\n",
            "Epoch 37/50\n",
            "383/383 [==============================] - 35s 91ms/step - loss: 0.1046 - accuracy: 0.9700 - val_loss: 0.3766 - val_accuracy: 0.8949\n",
            "Epoch 38/50\n",
            "383/383 [==============================] - 35s 91ms/step - loss: 0.1004 - accuracy: 0.9696 - val_loss: 0.6076 - val_accuracy: 0.8755\n",
            "Epoch 39/50\n",
            "383/383 [==============================] - 35s 91ms/step - loss: 0.1102 - accuracy: 0.9688 - val_loss: 0.2059 - val_accuracy: 0.9435\n",
            "Epoch 40/50\n",
            "383/383 [==============================] - 35s 91ms/step - loss: 0.1294 - accuracy: 0.9661 - val_loss: 0.2147 - val_accuracy: 0.9489\n",
            "Epoch 41/50\n",
            "383/383 [==============================] - 35s 91ms/step - loss: 0.1259 - accuracy: 0.9630 - val_loss: 0.6444 - val_accuracy: 0.9012\n",
            "Epoch 42/50\n",
            "383/383 [==============================] - 35s 91ms/step - loss: 0.1091 - accuracy: 0.9714 - val_loss: 0.7428 - val_accuracy: 0.8666\n",
            "Epoch 43/50\n",
            "383/383 [==============================] - 35s 91ms/step - loss: 0.1316 - accuracy: 0.9654 - val_loss: 0.1550 - val_accuracy: 0.9586\n",
            "Epoch 44/50\n",
            "383/383 [==============================] - 35s 91ms/step - loss: 0.1214 - accuracy: 0.9712 - val_loss: 0.1703 - val_accuracy: 0.9589\n",
            "Epoch 45/50\n",
            "383/383 [==============================] - 35s 91ms/step - loss: 0.1215 - accuracy: 0.9678 - val_loss: 0.3630 - val_accuracy: 0.9106\n",
            "Epoch 46/50\n",
            "383/383 [==============================] - 35s 91ms/step - loss: 0.0838 - accuracy: 0.9776 - val_loss: 0.1150 - val_accuracy: 0.9706\n",
            "Epoch 47/50\n",
            "383/383 [==============================] - 35s 91ms/step - loss: 0.1011 - accuracy: 0.9725 - val_loss: 0.1986 - val_accuracy: 0.9383\n",
            "Epoch 48/50\n",
            "383/383 [==============================] - 35s 91ms/step - loss: 0.1014 - accuracy: 0.9726 - val_loss: 0.2610 - val_accuracy: 0.9523\n",
            "Epoch 49/50\n",
            "383/383 [==============================] - 35s 91ms/step - loss: 0.1105 - accuracy: 0.9718 - val_loss: 0.3007 - val_accuracy: 0.9375\n",
            "Epoch 50/50\n",
            "383/383 [==============================] - 35s 91ms/step - loss: 0.1008 - accuracy: 0.9766 - val_loss: 0.1430 - val_accuracy: 0.9577\n"
          ]
        },
        {
          "output_type": "execute_result",
          "data": {
            "text/plain": [
              "<keras.callbacks.History at 0x7f0aa40b0c10>"
            ]
          },
          "metadata": {},
          "execution_count": 14
        }
      ]
    },
    {
      "cell_type": "code",
      "metadata": {
        "id": "vJ36Viwi6CiC"
      },
      "source": [
        "y_pred = model.predict(test_ds)\n",
        "y_pred = np.argmax(y_pred, axis=1) # Convert one-hot to index"
      ],
      "execution_count": 25,
      "outputs": []
    },
    {
      "cell_type": "code",
      "metadata": {
        "id": "plDuYnGDJnGo"
      },
      "source": [
        "test = tfds.as_numpy(test_ds)\n",
        "y_pred = []\n",
        "y_label = []\n",
        "\n",
        "for i in test:\n",
        "  flat_img = i[0]\n",
        "  flat_label = i[1]\n",
        "  pred = model.predict(flat_img)\n",
        "  pred = np.argmax(pred, axis=1)\n",
        "  y_pred.extend(pred)\n",
        "  y_label.extend(flat_label)\n",
        "\n",
        "y_pred = np.array(y_pred)\n",
        "y_label = np.array(y_label)"
      ],
      "execution_count": 15,
      "outputs": []
    },
    {
      "cell_type": "code",
      "metadata": {
        "colab": {
          "base_uri": "https://localhost:8080/"
        },
        "id": "NuovSf32IhyX",
        "outputId": "d1efe18b-db40-4e9e-f601-3ee602df3312"
      },
      "source": [
        "from sklearn.metrics import classification_report\n",
        "\n",
        "print(y_pred)\n",
        "print(classification_report(y_label, y_pred))"
      ],
      "execution_count": 17,
      "outputs": [
        {
          "output_type": "stream",
          "name": "stdout",
          "text": [
            "[1 7 7 ... 8 8 0]\n",
            "              precision    recall  f1-score   support\n",
            "\n",
            "           0       0.99      0.92      0.95        98\n",
            "           1       0.91      0.97      0.94       108\n",
            "           2       0.93      0.98      0.96       101\n",
            "           3       0.91      0.99      0.95       114\n",
            "           4       0.96      1.00      0.98        91\n",
            "           5       1.00      0.73      0.85       109\n",
            "           6       0.81      1.00      0.89       105\n",
            "           7       0.97      0.94      0.95        98\n",
            "           8       0.98      0.97      0.98       927\n",
            "\n",
            "    accuracy                           0.96      1751\n",
            "   macro avg       0.94      0.95      0.94      1751\n",
            "weighted avg       0.96      0.96      0.96      1751\n",
            "\n"
          ]
        }
      ]
    },
    {
      "cell_type": "code",
      "metadata": {
        "id": "zQb_IHLSJigM"
      },
      "source": [
        ""
      ],
      "execution_count": null,
      "outputs": []
    }
  ]
}